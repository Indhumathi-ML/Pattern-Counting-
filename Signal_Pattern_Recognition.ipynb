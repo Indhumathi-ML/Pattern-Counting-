{
 "cells": [
  {
   "cell_type": "code",
   "execution_count": 43,
   "metadata": {},
   "outputs": [],
   "source": [
    "#converting timeseries data to dataframe\n",
    "import pandas as pd\n",
    "import numpy as np\n",
    "df=pd.read_excel(\"E:\\DS_Business\\Book1.xlsx\",header=0)"
   ]
  },
  {
   "cell_type": "code",
   "execution_count": 44,
   "metadata": {},
   "outputs": [],
   "source": [
    "#split sequence into mini sequence with length of 12 points\n",
    "l=df.Series.to_list()\n",
    "data=[l[i:i+12] for i in range(0,2582)]\n",
    "df1=pd.DataFrame(data[0:2581])"
   ]
  },
  {
   "cell_type": "code",
   "execution_count": 46,
   "metadata": {},
   "outputs": [
    {
     "data": {
      "text/html": [
       "<div>\n",
       "<style scoped>\n",
       "    .dataframe tbody tr th:only-of-type {\n",
       "        vertical-align: middle;\n",
       "    }\n",
       "\n",
       "    .dataframe tbody tr th {\n",
       "        vertical-align: top;\n",
       "    }\n",
       "\n",
       "    .dataframe thead th {\n",
       "        text-align: right;\n",
       "    }\n",
       "</style>\n",
       "<table border=\"1\" class=\"dataframe\">\n",
       "  <thead>\n",
       "    <tr style=\"text-align: right;\">\n",
       "      <th></th>\n",
       "      <th>0</th>\n",
       "      <th>1</th>\n",
       "      <th>2</th>\n",
       "      <th>3</th>\n",
       "      <th>4</th>\n",
       "      <th>5</th>\n",
       "      <th>6</th>\n",
       "      <th>7</th>\n",
       "      <th>8</th>\n",
       "      <th>9</th>\n",
       "      <th>10</th>\n",
       "      <th>11</th>\n",
       "    </tr>\n",
       "  </thead>\n",
       "  <tbody>\n",
       "    <tr>\n",
       "      <th>0</th>\n",
       "      <td>9.38</td>\n",
       "      <td>9.42</td>\n",
       "      <td>9.44</td>\n",
       "      <td>9.40</td>\n",
       "      <td>9.44</td>\n",
       "      <td>9.44</td>\n",
       "      <td>9.74</td>\n",
       "      <td>11.46</td>\n",
       "      <td>11.46</td>\n",
       "      <td>11.46</td>\n",
       "      <td>11.46</td>\n",
       "      <td>11.46</td>\n",
       "    </tr>\n",
       "    <tr>\n",
       "      <th>1</th>\n",
       "      <td>9.42</td>\n",
       "      <td>9.44</td>\n",
       "      <td>9.40</td>\n",
       "      <td>9.44</td>\n",
       "      <td>9.44</td>\n",
       "      <td>9.74</td>\n",
       "      <td>11.46</td>\n",
       "      <td>11.46</td>\n",
       "      <td>11.46</td>\n",
       "      <td>11.46</td>\n",
       "      <td>11.46</td>\n",
       "      <td>11.46</td>\n",
       "    </tr>\n",
       "    <tr>\n",
       "      <th>2</th>\n",
       "      <td>9.44</td>\n",
       "      <td>9.40</td>\n",
       "      <td>9.44</td>\n",
       "      <td>9.44</td>\n",
       "      <td>9.74</td>\n",
       "      <td>11.46</td>\n",
       "      <td>11.46</td>\n",
       "      <td>11.46</td>\n",
       "      <td>11.46</td>\n",
       "      <td>11.46</td>\n",
       "      <td>11.46</td>\n",
       "      <td>11.44</td>\n",
       "    </tr>\n",
       "    <tr>\n",
       "      <th>3</th>\n",
       "      <td>9.40</td>\n",
       "      <td>9.44</td>\n",
       "      <td>9.44</td>\n",
       "      <td>9.74</td>\n",
       "      <td>11.46</td>\n",
       "      <td>11.46</td>\n",
       "      <td>11.46</td>\n",
       "      <td>11.46</td>\n",
       "      <td>11.46</td>\n",
       "      <td>11.46</td>\n",
       "      <td>11.44</td>\n",
       "      <td>11.46</td>\n",
       "    </tr>\n",
       "    <tr>\n",
       "      <th>4</th>\n",
       "      <td>9.44</td>\n",
       "      <td>9.44</td>\n",
       "      <td>9.74</td>\n",
       "      <td>11.46</td>\n",
       "      <td>11.46</td>\n",
       "      <td>11.46</td>\n",
       "      <td>11.46</td>\n",
       "      <td>11.46</td>\n",
       "      <td>11.46</td>\n",
       "      <td>11.44</td>\n",
       "      <td>11.46</td>\n",
       "      <td>11.46</td>\n",
       "    </tr>\n",
       "  </tbody>\n",
       "</table>\n",
       "</div>"
      ],
      "text/plain": [
       "     0     1     2      3      4      5      6      7      8      9      10  \\\n",
       "0  9.38  9.42  9.44   9.40   9.44   9.44   9.74  11.46  11.46  11.46  11.46   \n",
       "1  9.42  9.44  9.40   9.44   9.44   9.74  11.46  11.46  11.46  11.46  11.46   \n",
       "2  9.44  9.40  9.44   9.44   9.74  11.46  11.46  11.46  11.46  11.46  11.46   \n",
       "3  9.40  9.44  9.44   9.74  11.46  11.46  11.46  11.46  11.46  11.46  11.44   \n",
       "4  9.44  9.44  9.74  11.46  11.46  11.46  11.46  11.46  11.46  11.44  11.46   \n",
       "\n",
       "      11  \n",
       "0  11.46  \n",
       "1  11.46  \n",
       "2  11.44  \n",
       "3  11.46  \n",
       "4  11.46  "
      ]
     },
     "execution_count": 46,
     "metadata": {},
     "output_type": "execute_result"
    }
   ],
   "source": [
    "#verifying\n",
    "df1.head()"
   ]
  },
  {
   "cell_type": "code",
   "execution_count": 55,
   "metadata": {},
   "outputs": [],
   "source": [
    "#reference signal pattern (or pattern to be counted)\n",
    "ref_signal=pd.DataFrame([[11.34,11.36,9.38,9.4,11.44,11.46,11.46,10.04,11.46,11.46,11.46,11]])"
   ]
  },
  {
   "cell_type": "code",
   "execution_count": 56,
   "metadata": {},
   "outputs": [
    {
     "data": {
      "text/html": [
       "<div>\n",
       "<style scoped>\n",
       "    .dataframe tbody tr th:only-of-type {\n",
       "        vertical-align: middle;\n",
       "    }\n",
       "\n",
       "    .dataframe tbody tr th {\n",
       "        vertical-align: top;\n",
       "    }\n",
       "\n",
       "    .dataframe thead th {\n",
       "        text-align: right;\n",
       "    }\n",
       "</style>\n",
       "<table border=\"1\" class=\"dataframe\">\n",
       "  <thead>\n",
       "    <tr style=\"text-align: right;\">\n",
       "      <th></th>\n",
       "      <th>0</th>\n",
       "      <th>1</th>\n",
       "      <th>2</th>\n",
       "      <th>3</th>\n",
       "      <th>4</th>\n",
       "      <th>5</th>\n",
       "      <th>6</th>\n",
       "      <th>7</th>\n",
       "      <th>8</th>\n",
       "      <th>9</th>\n",
       "      <th>10</th>\n",
       "      <th>11</th>\n",
       "    </tr>\n",
       "  </thead>\n",
       "  <tbody>\n",
       "    <tr>\n",
       "      <th>0</th>\n",
       "      <td>11.34</td>\n",
       "      <td>11.36</td>\n",
       "      <td>9.38</td>\n",
       "      <td>9.4</td>\n",
       "      <td>11.44</td>\n",
       "      <td>11.46</td>\n",
       "      <td>11.46</td>\n",
       "      <td>10.04</td>\n",
       "      <td>11.46</td>\n",
       "      <td>11.46</td>\n",
       "      <td>11.46</td>\n",
       "      <td>11</td>\n",
       "    </tr>\n",
       "  </tbody>\n",
       "</table>\n",
       "</div>"
      ],
      "text/plain": [
       "      0      1     2    3      4      5      6      7      8      9      10  \\\n",
       "0  11.34  11.36  9.38  9.4  11.44  11.46  11.46  10.04  11.46  11.46  11.46   \n",
       "\n",
       "   11  \n",
       "0  11  "
      ]
     },
     "execution_count": 56,
     "metadata": {},
     "output_type": "execute_result"
    }
   ],
   "source": [
    "ref_signal.head()"
   ]
  },
  {
   "cell_type": "code",
   "execution_count": 91,
   "metadata": {},
   "outputs": [],
   "source": [
    "#Calculate_Distance_or_RMSE_From_reference_signal\n",
    "#(x2-xref)**2\n",
    "df_distance=df1.rsub([11.34,11.36,9.38,9.4,11.44,11.46,11.46,10.04,11.46,11.46,11.46,11]).pow(2)\n",
    "#distance=sqrt((x2-xref)**2+(y2-yref)**2......)\n",
    "df_distance=df_distance.sum(axis=1).pow(0.5)"
   ]
  },
  {
   "cell_type": "code",
   "execution_count": 93,
   "metadata": {},
   "outputs": [
    {
     "data": {
      "text/html": [
       "<div>\n",
       "<style scoped>\n",
       "    .dataframe tbody tr th:only-of-type {\n",
       "        vertical-align: middle;\n",
       "    }\n",
       "\n",
       "    .dataframe tbody tr th {\n",
       "        vertical-align: top;\n",
       "    }\n",
       "\n",
       "    .dataframe thead th {\n",
       "        text-align: right;\n",
       "    }\n",
       "</style>\n",
       "<table border=\"1\" class=\"dataframe\">\n",
       "  <thead>\n",
       "    <tr style=\"text-align: right;\">\n",
       "      <th></th>\n",
       "      <th>0</th>\n",
       "      <th>1</th>\n",
       "      <th>2</th>\n",
       "      <th>3</th>\n",
       "      <th>4</th>\n",
       "      <th>5</th>\n",
       "      <th>6</th>\n",
       "      <th>7</th>\n",
       "      <th>8</th>\n",
       "      <th>9</th>\n",
       "      <th>10</th>\n",
       "      <th>11</th>\n",
       "      <th>Distance</th>\n",
       "    </tr>\n",
       "  </thead>\n",
       "  <tbody>\n",
       "    <tr>\n",
       "      <th>0</th>\n",
       "      <td>9.38</td>\n",
       "      <td>9.42</td>\n",
       "      <td>9.44</td>\n",
       "      <td>9.40</td>\n",
       "      <td>9.44</td>\n",
       "      <td>9.44</td>\n",
       "      <td>9.74</td>\n",
       "      <td>11.46</td>\n",
       "      <td>11.46</td>\n",
       "      <td>11.46</td>\n",
       "      <td>11.46</td>\n",
       "      <td>11.46</td>\n",
       "      <td>4.568982</td>\n",
       "    </tr>\n",
       "    <tr>\n",
       "      <th>1</th>\n",
       "      <td>9.42</td>\n",
       "      <td>9.44</td>\n",
       "      <td>9.40</td>\n",
       "      <td>9.44</td>\n",
       "      <td>9.44</td>\n",
       "      <td>9.74</td>\n",
       "      <td>11.46</td>\n",
       "      <td>11.46</td>\n",
       "      <td>11.46</td>\n",
       "      <td>11.46</td>\n",
       "      <td>11.46</td>\n",
       "      <td>11.46</td>\n",
       "      <td>4.069545</td>\n",
       "    </tr>\n",
       "    <tr>\n",
       "      <th>2</th>\n",
       "      <td>9.44</td>\n",
       "      <td>9.40</td>\n",
       "      <td>9.44</td>\n",
       "      <td>9.44</td>\n",
       "      <td>9.74</td>\n",
       "      <td>11.46</td>\n",
       "      <td>11.46</td>\n",
       "      <td>11.46</td>\n",
       "      <td>11.46</td>\n",
       "      <td>11.46</td>\n",
       "      <td>11.46</td>\n",
       "      <td>11.44</td>\n",
       "      <td>3.543558</td>\n",
       "    </tr>\n",
       "    <tr>\n",
       "      <th>3</th>\n",
       "      <td>9.40</td>\n",
       "      <td>9.44</td>\n",
       "      <td>9.44</td>\n",
       "      <td>9.74</td>\n",
       "      <td>11.46</td>\n",
       "      <td>11.46</td>\n",
       "      <td>11.46</td>\n",
       "      <td>11.46</td>\n",
       "      <td>11.46</td>\n",
       "      <td>11.46</td>\n",
       "      <td>11.44</td>\n",
       "      <td>11.46</td>\n",
       "      <td>3.130176</td>\n",
       "    </tr>\n",
       "    <tr>\n",
       "      <th>4</th>\n",
       "      <td>9.44</td>\n",
       "      <td>9.44</td>\n",
       "      <td>9.74</td>\n",
       "      <td>11.46</td>\n",
       "      <td>11.46</td>\n",
       "      <td>11.46</td>\n",
       "      <td>11.46</td>\n",
       "      <td>11.46</td>\n",
       "      <td>11.46</td>\n",
       "      <td>11.44</td>\n",
       "      <td>11.46</td>\n",
       "      <td>11.46</td>\n",
       "      <td>3.728056</td>\n",
       "    </tr>\n",
       "  </tbody>\n",
       "</table>\n",
       "</div>"
      ],
      "text/plain": [
       "      0     1     2      3      4      5      6      7      8      9     10  \\\n",
       "0  9.38  9.42  9.44   9.40   9.44   9.44   9.74  11.46  11.46  11.46  11.46   \n",
       "1  9.42  9.44  9.40   9.44   9.44   9.74  11.46  11.46  11.46  11.46  11.46   \n",
       "2  9.44  9.40  9.44   9.44   9.74  11.46  11.46  11.46  11.46  11.46  11.46   \n",
       "3  9.40  9.44  9.44   9.74  11.46  11.46  11.46  11.46  11.46  11.46  11.44   \n",
       "4  9.44  9.44  9.74  11.46  11.46  11.46  11.46  11.46  11.46  11.44  11.46   \n",
       "\n",
       "      11  Distance  \n",
       "0  11.46  4.568982  \n",
       "1  11.46  4.069545  \n",
       "2  11.44  3.543558  \n",
       "3  11.46  3.130176  \n",
       "4  11.46  3.728056  "
      ]
     },
     "execution_count": 93,
     "metadata": {},
     "output_type": "execute_result"
    }
   ],
   "source": [
    "#appending distance to orginal df1\n",
    "df1['Distance']=df_distance\n",
    "df1.head()"
   ]
  },
  {
   "cell_type": "code",
   "execution_count": 104,
   "metadata": {},
   "outputs": [
    {
     "data": {
      "text/plain": [
       "(15, 13)"
      ]
     },
     "execution_count": 104,
     "metadata": {},
     "output_type": "execute_result"
    }
   ],
   "source": [
    "#Identifying Signal patterns similar to Ref.Signal\n",
    "matching_patterns=df1[df1['Distance']<1]\n",
    "matching_patterns.shape"
   ]
  },
  {
   "cell_type": "code",
   "execution_count": 107,
   "metadata": {},
   "outputs": [
    {
     "name": "stdout",
     "output_type": "stream",
     "text": [
      "The pattern is repeated  15  times\n"
     ]
    }
   ],
   "source": [
    "#no.of repititions of pattern\n",
    "answer=matching_patterns.shape[0]\n",
    "print('The pattern is repeated ',answer,' times')"
   ]
  },
  {
   "cell_type": "code",
   "execution_count": 118,
   "metadata": {},
   "outputs": [
    {
     "data": {
      "image/png": "[encoded data removed]",
      "text/plain": [
       "<Figure size 432x288 with 15 Axes>"
      ]
     },
     "metadata": {
      "needs_background": "light"
     },
     "output_type": "display_data"
    }
   ],
   "source": [
    "# plotting the signal patterns for viewing\n",
    "import matplotlib.pyplot as plt\n",
    "x=list(range(1,13))\n",
    "fig,axs=plt.subplots(15)\n",
    "for i in range(0,12):\n",
    "    axs[i].plot(x,matching_patterns.iloc[i,:12])"
   ]
  },
  {
   "cell_type": "code",
   "execution_count": 116,
   "metadata": {},
   "outputs": [
    {
     "data": {
      "image/png": "[encoded data removed]",
      "text/plain": [
       "<Figure size 640x480 with 15 Axes>"
      ]
     },
     "execution_count": 116,
     "metadata": {},
     "output_type": "execute_result"
    }
   ],
   "source": [
    "fig()"
   ]
  },
  {
   "cell_type": "code",
   "execution_count": null,
   "metadata": {},
   "outputs": [],
   "source": []
  }
 ],
 "metadata": {
  "kernelspec": {
   "display_name": "Python 3",
   "language": "python",
   "name": "python3"
  },
  "language_info": {
   "codemirror_mode": {
    "name": "ipython",
    "version": 3
   },
   "file_extension": ".py",
   "mimetype": "text/x-python",
   "name": "python",
   "nbconvert_exporter": "python",
   "pygments_lexer": "ipython3",
   "version": "3.7.3"
  }
 },
 "nbformat": 4,
 "nbformat_minor": 2
}
